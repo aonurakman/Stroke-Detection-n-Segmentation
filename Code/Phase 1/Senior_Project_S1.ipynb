{
  "nbformat": 4,
  "nbformat_minor": 0,
  "metadata": {
    "accelerator": "GPU",
    "colab": {
      "name": "Senior-Project",
      "provenance": [],
      "collapsed_sections": []
    },
    "kernelspec": {
      "display_name": "Python 3",
      "name": "python3"
    },
    "language_info": {
      "name": "python"
    }
  },
  "cells": [
    {
      "cell_type": "code",
      "metadata": {
        "id": "94Pe4Y7mHmmE",
        "colab": {
          "base_uri": "https://localhost:8080/"
        },
        "outputId": "00ae87a7-c60a-4e2f-b9ec-a7ce3d496598"
      },
      "source": [
        "from google.colab import drive\n",
        "drive.mount('/content/drive')"
      ],
      "execution_count": null,
      "outputs": [
        {
          "output_type": "stream",
          "text": [
            "Drive already mounted at /content/drive; to attempt to forcibly remount, call drive.mount(\"/content/drive\", force_remount=True).\n"
          ],
          "name": "stdout"
        }
      ]
    },
    {
      "cell_type": "code",
      "metadata": {
        "id": "3QGmOd0NHt72"
      },
      "source": [
        "import keras\n",
        "import os\n",
        "os.environ['TF_CPP_MIN_LOG_LEVEL'] = '2'\n",
        "import pickle\n",
        "import numpy as np\n",
        "import cv2\n",
        "from numpy.random import default_rng\n",
        "from tensorflow.keras.applications.efficientnet import EfficientNetB0, EfficientNetB3, EfficientNetB7\n",
        "from keras.applications.densenet import DenseNet121, DenseNet169, DenseNet201\n",
        "from keras.preprocessing.image import load_img\n",
        "from keras.preprocessing.image import img_to_array\n",
        "from keras.applications.vgg16 import decode_predictions\n",
        "from keras.layers import Input,Flatten,Dense,Activation\n",
        "from keras.applications.vgg16 import preprocess_input\n",
        "from keras.models import Model\n",
        "from keras.optimizers import Adam\n",
        "from sklearn.model_selection import train_test_split\n",
        "import matplotlib.pyplot as plt # Edited"
      ],
      "execution_count": null,
      "outputs": []
    },
    {
      "cell_type": "code",
      "metadata": {
        "id": "DlCzGy8aHuQk"
      },
      "source": [
        "file = open(r\"/content/drive/MyDrive/dataset/dataset.pkl\", \"rb\") # Edited\n",
        "data = pickle.load(file)\n",
        "file.close()\n",
        "\n",
        "inmeYok = data['inmeYok']\n",
        "iskemi = data['iskemi']\n",
        "kanama = data['kanama']\n",
        "del data\n",
        "data = None\n",
        "\n",
        "inmeVar = np.concatenate((iskemi,kanama))\n",
        "del iskemi\n",
        "del kanama\n",
        "iskemi = None\n",
        "kananma = None\n",
        "\n",
        "inmeYok_Y = np.zeros((len(inmeYok)))\n",
        "inmeVar_Y = np.ones((len(inmeVar)))"
      ],
      "execution_count": null,
      "outputs": []
    },
    {
      "cell_type": "code",
      "metadata": {
        "id": "SIw6PiCiHuTG"
      },
      "source": [
        "inmeVarTrain_X , inmeVarTrain_Y , inmeVarTest_X , inmeVarTest_Y = train_test_split(inmeVar,inmeVar_Y,test_size = 0.15,random_state = 42)\n",
        "del inmeVar\n",
        "inmeVar = None\n",
        "\n",
        "\n",
        "inmeYokTrain_X , inmeYokTrain_Y , inmeYokTest_X , inmeYokTest_Y = train_test_split(inmeYok,inmeYok_Y,test_size = 0.15,random_state = 42)\n",
        "del inmeYok\n",
        "inmeYok = None\n",
        "\n",
        "print(str(len(inmeYokTrain_X)) + \" \" + str(len(inmeVarTrain_X)))\n",
        "\n",
        "rng = default_rng()\n",
        "list_inmeYok = rng.choice(len(inmeYokTrain_X)-1, size=len(inmeVarTrain_X), replace=False)\n",
        "select_no_hemoraj = []\n",
        "for i in range(len(inmeVarTrain_X)):\n",
        "    select_no_hemoraj.append(inmeYokTrain_X[list_inmeYok[i]])\n",
        "\n",
        "\n",
        "del inmeYokTrain_X\n",
        "inmeYokTrain_X = None\n",
        "\n",
        "train_x = np.concatenate((np.array(select_no_hemoraj),inmeVarTrain_X),0)\n",
        "train_y = np.concatenate((np.zeros(len(select_no_hemoraj)),np.ones(len(inmeVarTrain_X))))\n",
        "del select_no_hemoraj\n",
        "del inmeVarTrain_X\n",
        "select_no_hemoraj = None\n",
        "inmeVarTrain_X = None\n"
      ],
      "execution_count": null,
      "outputs": []
    },
    {
      "cell_type": "code",
      "metadata": {
        "id": "pCx1cnY8HuVs"
      },
      "source": [
        "split = 30 # Yüzde # Edited\n",
        "rstate = 43 # Edited\n",
        "\n",
        "train_x,test_x,train_y,test_y = train_test_split(train_x, train_y, test_size = split/100, random_state = rstate) # Edited\n",
        "\n",
        "train_yy = []\n",
        "for i in range(len(train_y)):\n",
        "    if(train_y[i] == 0):\n",
        "        train_yy.append([1,0])\n",
        "    else:\n",
        "        train_yy.append([0,1])\n",
        "train_y = np.array(train_yy)\n",
        "\n",
        "test_yy = []\n",
        "for i in range(len(test_y)):\n",
        "    if(test_y[i] == 0):\n",
        "        test_yy.append([1,0])\n",
        "    else:\n",
        "        test_yy.append([0,1])\n",
        "test_y = np.array(test_yy)"
      ],
      "execution_count": null,
      "outputs": []
    },
    {
      "cell_type": "code",
      "metadata": {
        "id": "X8suAfneHuYp"
      },
      "source": [
        "### ÇALIŞILACAK MODELIN , KATMAN SAYILARININ , KATMAN BOYUTLARININ ve EGITILMEYECEK KATMANLARIN BELIRLENDIGI YER ###\n",
        "\n",
        "model = DenseNet121(include_top=False, input_shape=(512, 512, 3)) # Edited\n",
        "for layer in model.layers: \n",
        "    layer.trainable = False\n",
        "flat1 = Flatten()(model.layers[-1].output)\n",
        "#class1 = Dense(1024, activation='relu')(flat1)\n",
        "output = Dense(2, activation='softmax')(flat1)\n",
        "\n",
        "model = Model(inputs=model.inputs, outputs=output)\n",
        "model.summary()"
      ],
      "execution_count": null,
      "outputs": []
    },
    {
      "cell_type": "code",
      "metadata": {
        "id": "56UZ4QSVHubJ"
      },
      "source": [
        "### MODELİN PARAMETRELERİNİN BELİRLENİP , EĞİTİM YAPTIKTAN SONRA TEST YAPILDIĞI YER ###\n",
        "# Cell Edited\n",
        "ep = 30\n",
        "bs = 32\n",
        "lr = 1 # Yüzde\n",
        "\n",
        "opt = keras.optimizers.Adam(learning_rate=lr/100)\n",
        "model.compile(loss='categorical_crossentropy', optimizer=opt, metrics=['accuracy'])\n",
        "\n",
        "history = model.fit(train_x, train_y, epochs = ep, batch_size = bs , verbose = 1, validation_data = (test_x, test_y))\n",
        "\n",
        "path = \"/content/drive/MyDrive/DenseNet/121/\" + \"Ep=\" + str(ep) + \"-Batch=\" + str(bs) + \"-LRate=%\" + str(lr) + \"-Rndm=\" + str(rstate) + \"-TestSze=%\" + str(split) + \"-Acc=\" + str(history.history['val_accuracy'][-1])\n",
        "model.save(path)\n",
        "model.save(path + \"/mymodel.h5\") # .h5 olarak da kaydettim"
      ],
      "execution_count": null,
      "outputs": []
    },
    {
      "cell_type": "code",
      "metadata": {
        "id": "BzbvVAUtRZRS"
      },
      "source": [
        "# Edited\n",
        "plt.plot(history.history['accuracy'])\n",
        "plt.plot(history.history['val_accuracy'])\n",
        "plt.title('Model Accuracy')\n",
        "plt.ylabel('accuracy')\n",
        "plt.xlabel('epoch')\n",
        "plt.legend(['Train Acc', 'Validation Acc'], loc='lower right')\n",
        "plt.savefig(path + \"/Graph_Acc.png\")\n",
        "plt.show()"
      ],
      "execution_count": null,
      "outputs": []
    },
    {
      "cell_type": "code",
      "metadata": {
        "id": "l4jByzFDd3hz"
      },
      "source": [
        "# Edited\n",
        "plt.plot(history.history['loss'])\n",
        "plt.plot(history.history['val_loss'])\n",
        "plt.title('Model Loss')\n",
        "plt.ylabel('loss')\n",
        "plt.xlabel('epoch')\n",
        "plt.legend(['Train Loss', 'Validation Loss'], loc='upper right')\n",
        "plt.savefig(path + \"/Graph_Loss.png\")\n",
        "plt.show()"
      ],
      "execution_count": null,
      "outputs": []
    },
    {
      "cell_type": "code",
      "metadata": {
        "id": "cvCFb76OqQbI"
      },
      "source": [
        "# Rastgele tahmin\n",
        "predict = model.predict(test_x[0:10])\n",
        "print(predict)\n",
        "print(test_y[0:10])"
      ],
      "execution_count": null,
      "outputs": []
    },
    {
      "cell_type": "code",
      "metadata": {
        "id": "lTcIzWXcxQ0r"
      },
      "source": [
        "# Modeli yeniden yükleyip test etme\n",
        "from keras.models import load_model\n",
        "newmodel = load_model(path + \"/mymodel.h5\")\n",
        "newpredict = newmodel.predict(test_x[0:20])\n",
        "print(newpredict)\n",
        "print(test_y[0:20])"
      ],
      "execution_count": null,
      "outputs": []
    }
  ]
}